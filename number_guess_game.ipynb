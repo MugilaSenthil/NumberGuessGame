{
  "nbformat": 4,
  "nbformat_minor": 0,
  "metadata": {
    "colab": {
      "provenance": []
    },
    "kernelspec": {
      "name": "python3",
      "display_name": "Python 3"
    },
    "language_info": {
      "name": "python"
    }
  },
  "cells": [
    {
      "cell_type": "code",
      "execution_count": 1,
      "metadata": {
        "id": "n5W-zaom6Y4F",
        "colab": {
          "base_uri": "https://localhost:8080/"
        },
        "outputId": "8d8f6854-0525-448a-d5c0-9a8568182385"
      },
      "outputs": [
        {
          "output_type": "stream",
          "name": "stdout",
          "text": [
            "enter lower bound:5\n",
            "enter upper bound:10\n",
            "\n",
            "\tou have only 3 chances to guess the number!\n",
            "\n",
            "Guess a number:6\n",
            "you guessed too small!\n",
            "Guess a number:8\n",
            "you guessed too long!\n",
            "Guess a number:7\n",
            "congratulations you did it in 3 try\n",
            "the number is 7\n",
            "\tBetter luck next time!\n"
          ]
        }
      ],
      "source": [
        "import random\n",
        "import math\n",
        "#taking inputs\n",
        "lower=int(input(\"enter lower bound:\"))\n",
        "upper=int(input(\"enter upper bound:\"))\n",
        "#generate random number between upper and lower\n",
        "x=random.randint(lower,upper)\n",
        "print(\"\\n\\tou have only\",round(math.log(upper-lower+1,2)),\"chances to guess the number!\\n\")\n",
        "#initialize the number of guesses\n",
        "count=0\n",
        "#for calculation of minimmum number of guesses depends upon range\n",
        "while count<math.log(upper-lower+1,2):\n",
        "  count+=1\n",
        "  #taking guessing number as input\n",
        "  guess=int(input(\"Guess a number:\"))\n",
        "  #condition testing\n",
        "  if x==guess:\n",
        "    print(\"congratulations you did it in\",count,\"try\")\n",
        "    #once guessed loop breaks\n",
        "    break\n",
        "  elif x>guess:\n",
        "    print(\"you guessed too small!\")\n",
        "  elif x<guess:\n",
        "    print(\"you guessed too long!\")\n",
        "#if guessing is more than required guesses\n",
        "if count>=math.log(upper-lower+1,2):\n",
        "  print(\"the number is %d\" %x)\n",
        "  print(\"\\tBetter luck next time!\")"
      ]
    }
  ]
}